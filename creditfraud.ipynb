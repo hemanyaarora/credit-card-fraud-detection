{
 "cells": [
  {
   "cell_type": "markdown",
   "id": "d43ac7d0",
   "metadata": {},
   "source": [
    "# Credit Card Fraud Detection"
   ]
  },
  {
   "cell_type": "markdown",
   "id": "6bf79a61",
   "metadata": {},
   "source": [
    "According to an article by [CNBC](https://www.cnbc.com/2021/01/27/credit-card-fraud-is-on-the-rise-due-to-covid-pandemic.html), the year 2019 witnessed a total of $28.65 billion worth of loss over payment card frauds across the globe. While we have much better and advanced modes of payment of money over the course of technological advancements, credit card frauds are still a prevelant problem today faced by millions of people on a regular basis. Hence, in this project we will try to spot a potential fraud tranaction so that the customers cannot bill for products they haven't purchased. Our aim will be to create a classifier that indicates whether a requested transaction is a fraud."
   ]
  },
  {
   "cell_type": "markdown",
   "id": "079d808e",
   "metadata": {},
   "source": [
    "Here are some of the Python libraries used in this project:\n",
    "\n",
    "- Pandas: You can explore more about this library [here](https://pandas.pydata.org/)\n",
    "- Seaborn: You can explore more about this library [here](https://seaborn.pydata.org/)\n",
    "- Matplotlib: You can explore more about this library [here](https://matplotlib.org/)\n",
    "- NumPy: You can explore more about this library [here](https://numpy.org/)"
   ]
  },
  {
   "cell_type": "markdown",
   "id": "4c7ffab5",
   "metadata": {},
   "source": [
    "## Downloading the Dataset\n",
    "\n",
    "We will download our dataset from Kaggle, where we can find a lot of interesting datasets online. There are several options for getting the dataset into Jupyter:\n",
    "\n",
    ">- Download the CSV manually and upload it via Jupyter's GUI\n",
    ">- Use the urlretrieve function from the urllib.request to download CSV files from a raw URL\n",
    ">- Use a helper library, e.g., opendatasets, which contains a collection of curated datasets and provides a helper function for\n",
    "direct download.\n",
    "\n",
    "We'll use the opendatasets helper library to download the files."
   ]
  },
  {
   "cell_type": "code",
   "execution_count": 1,
   "id": "5aab3d1f",
   "metadata": {
    "collapsed": true
   },
   "outputs": [
    {
     "name": "stderr",
     "output_type": "stream",
     "text": [
      "You are using pip version 19.0.3, however version 21.1.2 is available.\n",
      "You should consider upgrading via the 'python -m pip install --upgrade pip' command.\n"
     ]
    }
   ],
   "source": [
    "!pip install opendatasets --upgrade --quiet"
   ]
  },
  {
   "cell_type": "code",
   "execution_count": 2,
   "id": "57e91108",
   "metadata": {},
   "outputs": [],
   "source": [
    "url = 'https://www.kaggle.com/mlg-ulb/creditcardfraud'"
   ]
  },
  {
   "cell_type": "code",
   "execution_count": 3,
   "id": "4d6535b6",
   "metadata": {
    "scrolled": true
   },
   "outputs": [
    {
     "name": "stdout",
     "output_type": "stream",
     "text": [
      "Please provide your Kaggle credentials to download this dataset. Learn more: http://bit.ly/kaggle-creds\n",
      "Your Kaggle username: hemanyaarora\n",
      "Your Kaggle Key: ········\n"
     ]
    },
    {
     "name": "stderr",
     "output_type": "stream",
     "text": [
      "  2%|█▏                                                                           | 1.00M/66.0M [00:00<00:10, 6.58MB/s]"
     ]
    },
    {
     "name": "stdout",
     "output_type": "stream",
     "text": [
      "Downloading creditcardfraud.zip to .\\creditcardfraud\n"
     ]
    },
    {
     "name": "stderr",
     "output_type": "stream",
     "text": [
      "100%|█████████████████████████████████████████████████████████████████████████████| 66.0M/66.0M [00:11<00:00, 6.10MB/s]\n"
     ]
    },
    {
     "name": "stdout",
     "output_type": "stream",
     "text": [
      "\n"
     ]
    }
   ],
   "source": [
    "import opendatasets as od\n",
    "od.download(url)"
   ]
  },
  {
   "cell_type": "code",
   "execution_count": 4,
   "id": "3bf79fde",
   "metadata": {},
   "outputs": [],
   "source": [
    "data_dir = './creditcardfraud'"
   ]
  },
  {
   "cell_type": "code",
   "execution_count": 5,
   "id": "e3aeafc3",
   "metadata": {},
   "outputs": [
    {
     "data": {
      "text/plain": [
       "['creditcard.csv']"
      ]
     },
     "execution_count": 5,
     "metadata": {},
     "output_type": "execute_result"
    }
   ],
   "source": [
    "import os\n",
    "os.listdir(data_dir)"
   ]
  },
  {
   "cell_type": "code",
   "execution_count": 6,
   "id": "2ef12b60",
   "metadata": {},
   "outputs": [],
   "source": [
    "project_name = 'credit-card-fraud-detection'"
   ]
  },
  {
   "cell_type": "markdown",
   "id": "0c296444",
   "metadata": {},
   "source": [
    "## Data Preparation and Cleaning"
   ]
  },
  {
   "cell_type": "markdown",
   "id": "75c8156b",
   "metadata": {},
   "source": [
    "In order to make better predictions for our data, we will clean and parse our data in order to see if there are any unintentional errors left. For that we will import certain Python libraries necessary and optimal for working with our data."
   ]
  },
  {
   "cell_type": "code",
   "execution_count": 52,
   "id": "a0ec5663",
   "metadata": {},
   "outputs": [],
   "source": [
    "import pandas as pd\n",
    "import numpy as np\n",
    "from collections import Counter\n",
    "import itertools\n",
    "import matplotlib.pyplot as plt\n",
    "import seaborn as sns\n",
    "%matplotlib inline"
   ]
  },
  {
   "cell_type": "markdown",
   "id": "e28c4c58",
   "metadata": {},
   "source": [
    "Let's import our dataset into a pandas dataframe."
   ]
  },
  {
   "cell_type": "code",
   "execution_count": 8,
   "id": "656974db",
   "metadata": {},
   "outputs": [],
   "source": [
    "credit_fraud_df = pd.read_csv('./creditcardfraud/creditcard.csv')"
   ]
  },
  {
   "cell_type": "code",
   "execution_count": 9,
   "id": "1d2cb5ac",
   "metadata": {},
   "outputs": [
    {
     "data": {
      "text/html": [
       "<div>\n",
       "<style scoped>\n",
       "    .dataframe tbody tr th:only-of-type {\n",
       "        vertical-align: middle;\n",
       "    }\n",
       "\n",
       "    .dataframe tbody tr th {\n",
       "        vertical-align: top;\n",
       "    }\n",
       "\n",
       "    .dataframe thead th {\n",
       "        text-align: right;\n",
       "    }\n",
       "</style>\n",
       "<table border=\"1\" class=\"dataframe\">\n",
       "  <thead>\n",
       "    <tr style=\"text-align: right;\">\n",
       "      <th></th>\n",
       "      <th>Time</th>\n",
       "      <th>V1</th>\n",
       "      <th>V2</th>\n",
       "      <th>V3</th>\n",
       "      <th>V4</th>\n",
       "      <th>V5</th>\n",
       "      <th>V6</th>\n",
       "      <th>V7</th>\n",
       "      <th>V8</th>\n",
       "      <th>V9</th>\n",
       "      <th>...</th>\n",
       "      <th>V21</th>\n",
       "      <th>V22</th>\n",
       "      <th>V23</th>\n",
       "      <th>V24</th>\n",
       "      <th>V25</th>\n",
       "      <th>V26</th>\n",
       "      <th>V27</th>\n",
       "      <th>V28</th>\n",
       "      <th>Amount</th>\n",
       "      <th>Class</th>\n",
       "    </tr>\n",
       "  </thead>\n",
       "  <tbody>\n",
       "    <tr>\n",
       "      <th>0</th>\n",
       "      <td>0.0</td>\n",
       "      <td>-1.359807</td>\n",
       "      <td>-0.072781</td>\n",
       "      <td>2.536347</td>\n",
       "      <td>1.378155</td>\n",
       "      <td>-0.338321</td>\n",
       "      <td>0.462388</td>\n",
       "      <td>0.239599</td>\n",
       "      <td>0.098698</td>\n",
       "      <td>0.363787</td>\n",
       "      <td>...</td>\n",
       "      <td>-0.018307</td>\n",
       "      <td>0.277838</td>\n",
       "      <td>-0.110474</td>\n",
       "      <td>0.066928</td>\n",
       "      <td>0.128539</td>\n",
       "      <td>-0.189115</td>\n",
       "      <td>0.133558</td>\n",
       "      <td>-0.021053</td>\n",
       "      <td>149.62</td>\n",
       "      <td>0</td>\n",
       "    </tr>\n",
       "    <tr>\n",
       "      <th>1</th>\n",
       "      <td>0.0</td>\n",
       "      <td>1.191857</td>\n",
       "      <td>0.266151</td>\n",
       "      <td>0.166480</td>\n",
       "      <td>0.448154</td>\n",
       "      <td>0.060018</td>\n",
       "      <td>-0.082361</td>\n",
       "      <td>-0.078803</td>\n",
       "      <td>0.085102</td>\n",
       "      <td>-0.255425</td>\n",
       "      <td>...</td>\n",
       "      <td>-0.225775</td>\n",
       "      <td>-0.638672</td>\n",
       "      <td>0.101288</td>\n",
       "      <td>-0.339846</td>\n",
       "      <td>0.167170</td>\n",
       "      <td>0.125895</td>\n",
       "      <td>-0.008983</td>\n",
       "      <td>0.014724</td>\n",
       "      <td>2.69</td>\n",
       "      <td>0</td>\n",
       "    </tr>\n",
       "    <tr>\n",
       "      <th>2</th>\n",
       "      <td>1.0</td>\n",
       "      <td>-1.358354</td>\n",
       "      <td>-1.340163</td>\n",
       "      <td>1.773209</td>\n",
       "      <td>0.379780</td>\n",
       "      <td>-0.503198</td>\n",
       "      <td>1.800499</td>\n",
       "      <td>0.791461</td>\n",
       "      <td>0.247676</td>\n",
       "      <td>-1.514654</td>\n",
       "      <td>...</td>\n",
       "      <td>0.247998</td>\n",
       "      <td>0.771679</td>\n",
       "      <td>0.909412</td>\n",
       "      <td>-0.689281</td>\n",
       "      <td>-0.327642</td>\n",
       "      <td>-0.139097</td>\n",
       "      <td>-0.055353</td>\n",
       "      <td>-0.059752</td>\n",
       "      <td>378.66</td>\n",
       "      <td>0</td>\n",
       "    </tr>\n",
       "    <tr>\n",
       "      <th>3</th>\n",
       "      <td>1.0</td>\n",
       "      <td>-0.966272</td>\n",
       "      <td>-0.185226</td>\n",
       "      <td>1.792993</td>\n",
       "      <td>-0.863291</td>\n",
       "      <td>-0.010309</td>\n",
       "      <td>1.247203</td>\n",
       "      <td>0.237609</td>\n",
       "      <td>0.377436</td>\n",
       "      <td>-1.387024</td>\n",
       "      <td>...</td>\n",
       "      <td>-0.108300</td>\n",
       "      <td>0.005274</td>\n",
       "      <td>-0.190321</td>\n",
       "      <td>-1.175575</td>\n",
       "      <td>0.647376</td>\n",
       "      <td>-0.221929</td>\n",
       "      <td>0.062723</td>\n",
       "      <td>0.061458</td>\n",
       "      <td>123.50</td>\n",
       "      <td>0</td>\n",
       "    </tr>\n",
       "    <tr>\n",
       "      <th>4</th>\n",
       "      <td>2.0</td>\n",
       "      <td>-1.158233</td>\n",
       "      <td>0.877737</td>\n",
       "      <td>1.548718</td>\n",
       "      <td>0.403034</td>\n",
       "      <td>-0.407193</td>\n",
       "      <td>0.095921</td>\n",
       "      <td>0.592941</td>\n",
       "      <td>-0.270533</td>\n",
       "      <td>0.817739</td>\n",
       "      <td>...</td>\n",
       "      <td>-0.009431</td>\n",
       "      <td>0.798278</td>\n",
       "      <td>-0.137458</td>\n",
       "      <td>0.141267</td>\n",
       "      <td>-0.206010</td>\n",
       "      <td>0.502292</td>\n",
       "      <td>0.219422</td>\n",
       "      <td>0.215153</td>\n",
       "      <td>69.99</td>\n",
       "      <td>0</td>\n",
       "    </tr>\n",
       "    <tr>\n",
       "      <th>...</th>\n",
       "      <td>...</td>\n",
       "      <td>...</td>\n",
       "      <td>...</td>\n",
       "      <td>...</td>\n",
       "      <td>...</td>\n",
       "      <td>...</td>\n",
       "      <td>...</td>\n",
       "      <td>...</td>\n",
       "      <td>...</td>\n",
       "      <td>...</td>\n",
       "      <td>...</td>\n",
       "      <td>...</td>\n",
       "      <td>...</td>\n",
       "      <td>...</td>\n",
       "      <td>...</td>\n",
       "      <td>...</td>\n",
       "      <td>...</td>\n",
       "      <td>...</td>\n",
       "      <td>...</td>\n",
       "      <td>...</td>\n",
       "      <td>...</td>\n",
       "    </tr>\n",
       "    <tr>\n",
       "      <th>284802</th>\n",
       "      <td>172786.0</td>\n",
       "      <td>-11.881118</td>\n",
       "      <td>10.071785</td>\n",
       "      <td>-9.834783</td>\n",
       "      <td>-2.066656</td>\n",
       "      <td>-5.364473</td>\n",
       "      <td>-2.606837</td>\n",
       "      <td>-4.918215</td>\n",
       "      <td>7.305334</td>\n",
       "      <td>1.914428</td>\n",
       "      <td>...</td>\n",
       "      <td>0.213454</td>\n",
       "      <td>0.111864</td>\n",
       "      <td>1.014480</td>\n",
       "      <td>-0.509348</td>\n",
       "      <td>1.436807</td>\n",
       "      <td>0.250034</td>\n",
       "      <td>0.943651</td>\n",
       "      <td>0.823731</td>\n",
       "      <td>0.77</td>\n",
       "      <td>0</td>\n",
       "    </tr>\n",
       "    <tr>\n",
       "      <th>284803</th>\n",
       "      <td>172787.0</td>\n",
       "      <td>-0.732789</td>\n",
       "      <td>-0.055080</td>\n",
       "      <td>2.035030</td>\n",
       "      <td>-0.738589</td>\n",
       "      <td>0.868229</td>\n",
       "      <td>1.058415</td>\n",
       "      <td>0.024330</td>\n",
       "      <td>0.294869</td>\n",
       "      <td>0.584800</td>\n",
       "      <td>...</td>\n",
       "      <td>0.214205</td>\n",
       "      <td>0.924384</td>\n",
       "      <td>0.012463</td>\n",
       "      <td>-1.016226</td>\n",
       "      <td>-0.606624</td>\n",
       "      <td>-0.395255</td>\n",
       "      <td>0.068472</td>\n",
       "      <td>-0.053527</td>\n",
       "      <td>24.79</td>\n",
       "      <td>0</td>\n",
       "    </tr>\n",
       "    <tr>\n",
       "      <th>284804</th>\n",
       "      <td>172788.0</td>\n",
       "      <td>1.919565</td>\n",
       "      <td>-0.301254</td>\n",
       "      <td>-3.249640</td>\n",
       "      <td>-0.557828</td>\n",
       "      <td>2.630515</td>\n",
       "      <td>3.031260</td>\n",
       "      <td>-0.296827</td>\n",
       "      <td>0.708417</td>\n",
       "      <td>0.432454</td>\n",
       "      <td>...</td>\n",
       "      <td>0.232045</td>\n",
       "      <td>0.578229</td>\n",
       "      <td>-0.037501</td>\n",
       "      <td>0.640134</td>\n",
       "      <td>0.265745</td>\n",
       "      <td>-0.087371</td>\n",
       "      <td>0.004455</td>\n",
       "      <td>-0.026561</td>\n",
       "      <td>67.88</td>\n",
       "      <td>0</td>\n",
       "    </tr>\n",
       "    <tr>\n",
       "      <th>284805</th>\n",
       "      <td>172788.0</td>\n",
       "      <td>-0.240440</td>\n",
       "      <td>0.530483</td>\n",
       "      <td>0.702510</td>\n",
       "      <td>0.689799</td>\n",
       "      <td>-0.377961</td>\n",
       "      <td>0.623708</td>\n",
       "      <td>-0.686180</td>\n",
       "      <td>0.679145</td>\n",
       "      <td>0.392087</td>\n",
       "      <td>...</td>\n",
       "      <td>0.265245</td>\n",
       "      <td>0.800049</td>\n",
       "      <td>-0.163298</td>\n",
       "      <td>0.123205</td>\n",
       "      <td>-0.569159</td>\n",
       "      <td>0.546668</td>\n",
       "      <td>0.108821</td>\n",
       "      <td>0.104533</td>\n",
       "      <td>10.00</td>\n",
       "      <td>0</td>\n",
       "    </tr>\n",
       "    <tr>\n",
       "      <th>284806</th>\n",
       "      <td>172792.0</td>\n",
       "      <td>-0.533413</td>\n",
       "      <td>-0.189733</td>\n",
       "      <td>0.703337</td>\n",
       "      <td>-0.506271</td>\n",
       "      <td>-0.012546</td>\n",
       "      <td>-0.649617</td>\n",
       "      <td>1.577006</td>\n",
       "      <td>-0.414650</td>\n",
       "      <td>0.486180</td>\n",
       "      <td>...</td>\n",
       "      <td>0.261057</td>\n",
       "      <td>0.643078</td>\n",
       "      <td>0.376777</td>\n",
       "      <td>0.008797</td>\n",
       "      <td>-0.473649</td>\n",
       "      <td>-0.818267</td>\n",
       "      <td>-0.002415</td>\n",
       "      <td>0.013649</td>\n",
       "      <td>217.00</td>\n",
       "      <td>0</td>\n",
       "    </tr>\n",
       "  </tbody>\n",
       "</table>\n",
       "<p>284807 rows × 31 columns</p>\n",
       "</div>"
      ],
      "text/plain": [
       "            Time         V1         V2        V3        V4        V5  \\\n",
       "0            0.0  -1.359807  -0.072781  2.536347  1.378155 -0.338321   \n",
       "1            0.0   1.191857   0.266151  0.166480  0.448154  0.060018   \n",
       "2            1.0  -1.358354  -1.340163  1.773209  0.379780 -0.503198   \n",
       "3            1.0  -0.966272  -0.185226  1.792993 -0.863291 -0.010309   \n",
       "4            2.0  -1.158233   0.877737  1.548718  0.403034 -0.407193   \n",
       "...          ...        ...        ...       ...       ...       ...   \n",
       "284802  172786.0 -11.881118  10.071785 -9.834783 -2.066656 -5.364473   \n",
       "284803  172787.0  -0.732789  -0.055080  2.035030 -0.738589  0.868229   \n",
       "284804  172788.0   1.919565  -0.301254 -3.249640 -0.557828  2.630515   \n",
       "284805  172788.0  -0.240440   0.530483  0.702510  0.689799 -0.377961   \n",
       "284806  172792.0  -0.533413  -0.189733  0.703337 -0.506271 -0.012546   \n",
       "\n",
       "              V6        V7        V8        V9  ...       V21       V22  \\\n",
       "0       0.462388  0.239599  0.098698  0.363787  ... -0.018307  0.277838   \n",
       "1      -0.082361 -0.078803  0.085102 -0.255425  ... -0.225775 -0.638672   \n",
       "2       1.800499  0.791461  0.247676 -1.514654  ...  0.247998  0.771679   \n",
       "3       1.247203  0.237609  0.377436 -1.387024  ... -0.108300  0.005274   \n",
       "4       0.095921  0.592941 -0.270533  0.817739  ... -0.009431  0.798278   \n",
       "...          ...       ...       ...       ...  ...       ...       ...   \n",
       "284802 -2.606837 -4.918215  7.305334  1.914428  ...  0.213454  0.111864   \n",
       "284803  1.058415  0.024330  0.294869  0.584800  ...  0.214205  0.924384   \n",
       "284804  3.031260 -0.296827  0.708417  0.432454  ...  0.232045  0.578229   \n",
       "284805  0.623708 -0.686180  0.679145  0.392087  ...  0.265245  0.800049   \n",
       "284806 -0.649617  1.577006 -0.414650  0.486180  ...  0.261057  0.643078   \n",
       "\n",
       "             V23       V24       V25       V26       V27       V28  Amount  \\\n",
       "0      -0.110474  0.066928  0.128539 -0.189115  0.133558 -0.021053  149.62   \n",
       "1       0.101288 -0.339846  0.167170  0.125895 -0.008983  0.014724    2.69   \n",
       "2       0.909412 -0.689281 -0.327642 -0.139097 -0.055353 -0.059752  378.66   \n",
       "3      -0.190321 -1.175575  0.647376 -0.221929  0.062723  0.061458  123.50   \n",
       "4      -0.137458  0.141267 -0.206010  0.502292  0.219422  0.215153   69.99   \n",
       "...          ...       ...       ...       ...       ...       ...     ...   \n",
       "284802  1.014480 -0.509348  1.436807  0.250034  0.943651  0.823731    0.77   \n",
       "284803  0.012463 -1.016226 -0.606624 -0.395255  0.068472 -0.053527   24.79   \n",
       "284804 -0.037501  0.640134  0.265745 -0.087371  0.004455 -0.026561   67.88   \n",
       "284805 -0.163298  0.123205 -0.569159  0.546668  0.108821  0.104533   10.00   \n",
       "284806  0.376777  0.008797 -0.473649 -0.818267 -0.002415  0.013649  217.00   \n",
       "\n",
       "        Class  \n",
       "0           0  \n",
       "1           0  \n",
       "2           0  \n",
       "3           0  \n",
       "4           0  \n",
       "...       ...  \n",
       "284802      0  \n",
       "284803      0  \n",
       "284804      0  \n",
       "284805      0  \n",
       "284806      0  \n",
       "\n",
       "[284807 rows x 31 columns]"
      ]
     },
     "execution_count": 9,
     "metadata": {},
     "output_type": "execute_result"
    }
   ],
   "source": [
    "credit_fraud_df"
   ]
  },
  {
   "cell_type": "code",
   "execution_count": 10,
   "id": "ed8c3df6",
   "metadata": {},
   "outputs": [
    {
     "data": {
      "text/plain": [
       "(284807, 31)"
      ]
     },
     "execution_count": 10,
     "metadata": {},
     "output_type": "execute_result"
    }
   ],
   "source": [
    "credit_fraud_df.shape"
   ]
  },
  {
   "cell_type": "markdown",
   "id": "7be4b668",
   "metadata": {},
   "source": [
    "Here we see that our data has 284807 rows and 31 columns. Let's see what do columns constitute in our data."
   ]
  },
  {
   "cell_type": "code",
   "execution_count": 11,
   "id": "b71eb343",
   "metadata": {},
   "outputs": [
    {
     "data": {
      "text/plain": [
       "Index(['Time', 'V1', 'V2', 'V3', 'V4', 'V5', 'V6', 'V7', 'V8', 'V9', 'V10',\n",
       "       'V11', 'V12', 'V13', 'V14', 'V15', 'V16', 'V17', 'V18', 'V19', 'V20',\n",
       "       'V21', 'V22', 'V23', 'V24', 'V25', 'V26', 'V27', 'V28', 'Amount',\n",
       "       'Class'],\n",
       "      dtype='object')"
      ]
     },
     "execution_count": 11,
     "metadata": {},
     "output_type": "execute_result"
    }
   ],
   "source": [
    "credit_fraud_df.columns"
   ]
  },
  {
   "cell_type": "markdown",
   "id": "96487f9b",
   "metadata": {},
   "source": [
    "Here we see that only readable columns that are of importance to us are **Time**, **Amount**, and **Class**. Here the column **Class** differentiates between genuine and fraud transactions.\n",
    "\n",
    "Let's see if there are any Null values in any of the columns."
   ]
  },
  {
   "cell_type": "code",
   "execution_count": 12,
   "id": "bb0b3acf",
   "metadata": {},
   "outputs": [
    {
     "data": {
      "text/plain": [
       "False"
      ]
     },
     "execution_count": 12,
     "metadata": {},
     "output_type": "execute_result"
    }
   ],
   "source": [
    "credit_fraud_df.isnull().values.any()"
   ]
  },
  {
   "cell_type": "markdown",
   "id": "fb5a338a",
   "metadata": {},
   "source": [
    "Here, we see that our dataset has no null values."
   ]
  },
  {
   "cell_type": "markdown",
   "id": "f696f086",
   "metadata": {},
   "source": [
    "Let's move forward and see and find more about the **Amount** column."
   ]
  },
  {
   "cell_type": "code",
   "execution_count": 13,
   "id": "73b64b4e",
   "metadata": {},
   "outputs": [
    {
     "data": {
      "text/plain": [
       "count    284807.000000\n",
       "mean         88.349619\n",
       "std         250.120109\n",
       "min           0.000000\n",
       "25%           5.600000\n",
       "50%          22.000000\n",
       "75%          77.165000\n",
       "max       25691.160000\n",
       "Name: Amount, dtype: float64"
      ]
     },
     "execution_count": 13,
     "metadata": {},
     "output_type": "execute_result"
    }
   ],
   "source": [
    "credit_fraud_df.Amount.describe()"
   ]
  },
  {
   "cell_type": "markdown",
   "id": "e20e39e9",
   "metadata": {},
   "source": [
    "Let's move forward and compare the statistics of fraud and genuine transactions."
   ]
  },
  {
   "cell_type": "code",
   "execution_count": 14,
   "id": "338b0e71",
   "metadata": {},
   "outputs": [
    {
     "name": "stdout",
     "output_type": "stream",
     "text": [
      "Total number of Fraud Transactions:  492\n",
      "Total number of Genuine Transactions:  284315\n",
      "Total percentage  of Fraud Transactions: 0.17\n"
     ]
    }
   ],
   "source": [
    "fraud = len(credit_fraud_df[credit_fraud_df.Class == 1])\n",
    "non_fraud = len(credit_fraud_df[credit_fraud_df.Class == 0])\n",
    "perc = (fraud/(non_fraud+fraud)) * 100\n",
    "\n",
    "print('Total number of Fraud Transactions: ', fraud)\n",
    "print('Total number of Genuine Transactions: ', non_fraud)\n",
    "print('Total percentage  of Fraud Transactions: {:.2f}'.format(perc))"
   ]
  },
  {
   "cell_type": "markdown",
   "id": "e0b33409",
   "metadata": {},
   "source": [
    "Here we see that there are only 0.17 percent of fraud transactions which makes our data highly unbalanced."
   ]
  },
  {
   "cell_type": "markdown",
   "id": "4acb9dff",
   "metadata": {},
   "source": [
    "Let's plot this information to put things into perspective."
   ]
  },
  {
   "cell_type": "code",
   "execution_count": 15,
   "id": "6a514051",
   "metadata": {},
   "outputs": [
    {
     "data": {
      "text/plain": [
       "0    284315\n",
       "1       492\n",
       "Name: Class, dtype: int64"
      ]
     },
     "execution_count": 15,
     "metadata": {},
     "output_type": "execute_result"
    }
   ],
   "source": [
    "class_df = credit_fraud_df.Class.value_counts()\n",
    "class_df"
   ]
  },
  {
   "cell_type": "code",
   "execution_count": 16,
   "id": "b3b94947",
   "metadata": {
    "scrolled": false
   },
   "outputs": [
    {
     "data": {
      "image/png": "[encoded data removed]",
      "text/plain": [
       "<Figure size 576x576 with 1 Axes>"
      ]
     },
     "metadata": {
      "needs_background": "light"
     },
     "output_type": "display_data"
    }
   ],
   "source": [
    "plt.figure(figsize=(8, 8))\n",
    "labels = [\"Genuine\", \"Fraud\"]\n",
    "class_df.plot(kind = 'bar')\n",
    "plt.xticks(range(2), labels, rotation = 360);\n",
    "plt.xlabel('Class')\n",
    "plt.ylabel('Number of Transactions')\n",
    "plt.title('Classification between Genuine and Fraud transactions')\n",
    "plt.show()"
   ]
  },
  {
   "cell_type": "markdown",
   "id": "27f8b505",
   "metadata": {},
   "source": [
    "Here we see that there is a vast difference between both the number of transactions, which is not good since we have to build a training set for our classifier."
   ]
  },
  {
   "cell_type": "markdown",
   "id": "a661efc9",
   "metadata": {},
   "source": [
    "Therefore, we will perform data normalization in order to normalize the range of the **'Class'** variable for our dataset. For that, we will drop the **'Amount'** columns and add a new columns with the normalized values."
   ]
  },
  {
   "cell_type": "code",
   "execution_count": 17,
   "id": "7f41da97",
   "metadata": {},
   "outputs": [],
   "source": [
    "from sklearn.preprocessing import StandardScaler"
   ]
  },
  {
   "cell_type": "code",
   "execution_count": 18,
   "id": "800cb0d2",
   "metadata": {
    "collapsed": true
   },
   "outputs": [
    {
     "name": "stderr",
     "output_type": "stream",
     "text": [
      "c:\\users\\heman\\opencv\\lib\\site-packages\\ipykernel_launcher.py:2: UserWarning: Pandas doesn't allow columns to be created via a new attribute name - see https://pandas.pydata.org/pandas-docs/stable/indexing.html#attribute-access\n",
      "  \n"
     ]
    }
   ],
   "source": [
    "scaler = StandardScaler()\n",
    "credit_fraud_df.NormalizedAmount = scaler.fit_transform(credit_fraud_df.Amount.values.reshape(-1, 1))\n",
    "\n",
    "X = credit_fraud_df.drop([\"Class\"], axis = 1)\n",
    "Y = credit_fraud_df.Class"
   ]
  },
  {
   "cell_type": "markdown",
   "id": "8a10824b",
   "metadata": {},
   "source": [
    "Now we will split our data into 70-30."
   ]
  },
  {
   "cell_type": "code",
   "execution_count": 19,
   "id": "0c2e7d9f",
   "metadata": {},
   "outputs": [
    {
     "name": "stdout",
     "output_type": "stream",
     "text": [
      "Shape of train_X: (199364, 30)\n",
      "Shape of test_X: (85443, 30)\n"
     ]
    }
   ],
   "source": [
    "from sklearn.model_selection import train_test_split\n",
    "(train_X, test_X, train_Y, test_Y) = train_test_split(X, Y, test_size = 0.3, random_state = 42)\n",
    "\n",
    "print(\"Shape of train_X:\", train_X.shape)\n",
    "print(\"Shape of test_X:\", test_X.shape)"
   ]
  },
  {
   "cell_type": "markdown",
   "id": "07c98cb3",
   "metadata": {},
   "source": [
    "## Applying Machine Learning Algorithms to our dataset"
   ]
  },
  {
   "cell_type": "markdown",
   "id": "036cbaf8",
   "metadata": {},
   "source": [
    " From the dataset, it is obvious that we are facing a binary classification problem. Since there can be a variety of algorithms which can be implemented for our dataset, we will implement Logistic Regression classification model."
   ]
  },
  {
   "cell_type": "code",
   "execution_count": 20,
   "id": "552b1492",
   "metadata": {},
   "outputs": [],
   "source": [
    "from sklearn.linear_model import LogisticRegression"
   ]
  },
  {
   "cell_type": "code",
   "execution_count": 46,
   "id": "7108b409",
   "metadata": {},
   "outputs": [],
   "source": [
    "logistic_reg = LogisticRegression(solver='lbfgs', max_iter=1000)"
   ]
  },
  {
   "cell_type": "markdown",
   "id": "0095d427",
   "metadata": {},
   "source": [
    "Now, let's train and evaluate our model."
   ]
  },
  {
   "cell_type": "code",
   "execution_count": 47,
   "id": "91c4034d",
   "metadata": {},
   "outputs": [
    {
     "data": {
      "text/plain": [
       "99.92275552122467"
      ]
     },
     "execution_count": 47,
     "metadata": {},
     "output_type": "execute_result"
    }
   ],
   "source": [
    "logistic_reg.fit(train_X, train_Y)\n",
    "predictions_dt = logistic_reg.predict(test_X)\n",
    "logistic_reg_score = logistic_reg.score(test_X, test_Y)*100\n",
    "logistic_reg_score"
   ]
  },
  {
   "cell_type": "markdown",
   "id": "1e5490a8",
   "metadata": {},
   "source": [
    "Here we see that our Logistic Regression classifer delivers an accuracy of 99.923% for our test set data."
   ]
  },
  {
   "cell_type": "markdown",
   "id": "9946055a",
   "metadata": {},
   "source": [
    "Let's make a function which displays the statistics for our classifier like: accuracy, precision, recall, and f1-score."
   ]
  },
  {
   "cell_type": "code",
   "execution_count": 49,
   "id": "d24c94c2",
   "metadata": {},
   "outputs": [],
   "source": [
    "from sklearn.metrics import accuracy_score, precision_score, confusion_matrix, recall_score, f1_score\n",
    "def metrics(actuals, predictions):\n",
    "    print(\"Accuracy: {:.5f}\".format(accuracy_score(actuals, predictions)))\n",
    "    print(\"Precision: {:.5f}\".format(precision_score(actuals, predictions)))\n",
    "    print(\"Recall: {:.5f}\".format(recall_score(actuals, predictions)))\n",
    "    print(\"F1-score: {:.5f}\".format(f1_score(actuals, predictions)))"
   ]
  },
  {
   "cell_type": "markdown",
   "id": "b713760e",
   "metadata": {},
   "source": [
    "Now let's visualize a confusion matrix and the evaluation metrics for our Logistic Regression model."
   ]
  },
  {
   "cell_type": "code",
   "execution_count": 36,
   "id": "f97ff3ca",
   "metadata": {},
   "outputs": [
    {
     "name": "stdout",
     "output_type": "stream",
     "text": [
      "Confusion Matrix - Logistic Regression\n",
      "[[85268    39]\n",
      " [   41    95]]\n"
     ]
    }
   ],
   "source": [
    "from sklearn.metrics import confusion_matrix\n",
    "confusion_matrix_dt = confusion_matrix(test_Y, predictions_dt.round())\n",
    "print(\"Logistic Regression Confusion Matrix\")\n",
    "print(confusion_matrix_dt)\n",
    "arr = np.array(confusion_matrix_dt)"
   ]
  },
  {
   "cell_type": "code",
   "execution_count": 45,
   "id": "5c24f075",
   "metadata": {},
   "outputs": [
    {
     "data": {
      "image/png": "[encoded data removed]",
      "text/plain": [
       "<Figure size 576x576 with 2 Axes>"
      ]
     },
     "metadata": {
      "needs_background": "light"
     },
     "output_type": "display_data"
    }
   ],
   "source": [
    "plt.figure(figsize = (8, 8))\n",
    "sns.heatmap(confusion_matrix_dt, annot = arr, cmap=\"YlGnBu\")\n",
    "plt.title(\"Logistic Regression Confusion Matrix\")\n",
    "plt.xlabel(\"Predicted Label\");\n",
    "plt.ylabel(\"True Label\");"
   ]
  },
  {
   "cell_type": "code",
   "execution_count": 50,
   "id": "94e8da6e",
   "metadata": {},
   "outputs": [
    {
     "name": "stdout",
     "output_type": "stream",
     "text": [
      "Total evaluations of Logistic Regression Model\n",
      "Accuracy: 0.99923\n",
      "Precision: 0.86458\n",
      "Recall: 0.61029\n",
      "F1-score: 0.71552\n"
     ]
    }
   ],
   "source": [
    "print(\"Total evaluations of Logistic Regression Model\")\n",
    "metrics(test_Y, predictions_dt.round())"
   ]
  },
  {
   "cell_type": "markdown",
   "id": "563454d5",
   "metadata": {},
   "source": [
    "Now, as we can see that our Logistic Regression model delivers a great accuracy rate, still our dataset suffers from class imbalance since only 0.17% of the transactions are fraud and around 99% of the transactions are genuine. In this case, our model will lay higher importance to the genuine transactions since there is more data about them in order to obtain more accuracy.  "
   ]
  },
  {
   "cell_type": "markdown",
   "id": "1ee90ad5",
   "metadata": {},
   "source": [
    "Hence, here we will use the technique of **Oversampling** the minortiy class which in this case, will double the examples in minority class even though these examples contribute no new data to the model. In the end, new examples will be generated by replicating the existing ones. For this, we will use the SMOTE method of data augmentation for the minority class."
   ]
  },
  {
   "cell_type": "code",
   "execution_count": 54,
   "id": "5ce4ea31",
   "metadata": {
    "scrolled": true
   },
   "outputs": [],
   "source": [
    "from imblearn.over_sampling import SMOTE"
   ]
  },
  {
   "cell_type": "code",
   "execution_count": 84,
   "id": "f3dd82d9",
   "metadata": {},
   "outputs": [
    {
     "name": "stdout",
     "output_type": "stream",
     "text": [
      "Resampled shape of X: (568630, 30)\n",
      "Resampled shape of Y: (568630,)\n",
      "Counter({0: 284315, 1: 284315})\n"
     ]
    }
   ],
   "source": [
    "X_resampled, Y_resampled = SMOTE().fit_resample(X, Y)\n",
    "print(\"Resampled shape of X:\", X_resampled.shape)\n",
    "print(\"Resampled shape of Y:\", Y_resampled.shape)\n",
    "\n",
    "value_counts = Counter(Y_resampled)\n",
    "print(value_counts)\n",
    "(train_X, test_X, train_Y, test_Y) = train_test_split(X_resampled, Y_resampled, test_size= 0.3, random_state= 42)"
   ]
  },
  {
   "cell_type": "markdown",
   "id": "c1cd14a9",
   "metadata": {},
   "source": [
    "Now, we will apply our Logistic Regression algorithm to our resampled data."
   ]
  },
  {
   "cell_type": "code",
   "execution_count": 100,
   "id": "2292eb32",
   "metadata": {},
   "outputs": [],
   "source": [
    "lr_resampled = LogisticRegression(solver='lbfgs', max_iter=1000)\n",
    "lr_resampled.fit(train_X, train_Y)\n",
    "\n",
    "predictions_resampled = lr_resampled.predict(test_X)\n",
    "logistic_regression_score_resampled = lr_resampled.score(test_X, test_Y)*100"
   ]
  },
  {
   "cell_type": "markdown",
   "id": "6e351604",
   "metadata": {},
   "source": [
    "Now, let's visualize the new predictions of our model and plot the confusion matrix."
   ]
  },
  {
   "cell_type": "code",
   "execution_count": 101,
   "id": "3635f15b",
   "metadata": {},
   "outputs": [
    {
     "name": "stdout",
     "output_type": "stream",
     "text": [
      "Logistic Regression Confusion Matrix (Oversampled)\n",
      "[[83908  1241]\n",
      " [ 2939 82501]]\n"
     ]
    }
   ],
   "source": [
    "cm_resampled = confusion_matrix(test_Y, predictions_resampled.round())\n",
    "print(\"Logistic Regression Confusion Matrix (Oversampled)\")\n",
    "arrx = np.array(cm_resampled)\n",
    "print(cm_resampled)"
   ]
  },
  {
   "cell_type": "code",
   "execution_count": 102,
   "id": "44f21504",
   "metadata": {},
   "outputs": [
    {
     "data": {
      "image/png": "[encoded data removed]",
      "text/plain": [
       "<Figure size 576x576 with 2 Axes>"
      ]
     },
     "metadata": {
      "needs_background": "light"
     },
     "output_type": "display_data"
    }
   ],
   "source": [
    "plt.figure(figsize = (8, 8))\n",
    "sns.heatmap(cm_resampled, annot = arrx, cmap=\"flare\")\n",
    "plt.title(\"Logistic Regression Confusion Matrix (Resampled)\")\n",
    "plt.xlabel(\"Predicted Label\");\n",
    "plt.ylabel(\"True Label\");"
   ]
  },
  {
   "cell_type": "code",
   "execution_count": 103,
   "id": "ab2fa8b4",
   "metadata": {},
   "outputs": [
    {
     "name": "stdout",
     "output_type": "stream",
     "text": [
      "Evaluation of Logistic Regression Model\n",
      "Accuracy: 0.97550\n",
      "Precision: 0.98518\n",
      "Recall: 0.96560\n",
      "F1-score: 0.97529\n"
     ]
    }
   ],
   "source": [
    "print(\"Evaluation of Logistic Regression Model\")\n",
    "metrics(test_Y, predictions_resampled.round())"
   ]
  },
  {
   "cell_type": "markdown",
   "id": "9a7d4836",
   "metadata": {},
   "source": [
    "From this, it is clearly evident that our model performed much better and is well rounded than our previous Logistic regression model without oversampling."
   ]
  },
  {
   "cell_type": "markdown",
   "id": "95a8ba01",
   "metadata": {},
   "source": [
    "## Inferences and Conclusion"
   ]
  },
  {
   "cell_type": "markdown",
   "id": "46f9b826",
   "metadata": {},
   "source": [
    "In this python project, we built a binary classifier using the Logistic Regression algorithm to predict credit card fraud transactions. Through this project, we understood and applied techniques to address the class imbalance issues as well and achieved an accuracy of around 97.5%."
   ]
  },
  {
   "cell_type": "markdown",
   "id": "9bd23638",
   "metadata": {},
   "source": [
    "## References and Future Work"
   ]
  },
  {
   "cell_type": "markdown",
   "id": "347addbe",
   "metadata": {},
   "source": [
    "Here are some of the things which can be done and performed more in this project:\n",
    "- Building a Random Tree Classifier Model\n",
    "- Building a Decision Tree Classifier Model\n",
    "- Building a KNN Classifier Model\n",
    "- Building a SVM Classifier Model\n",
    "\n",
    "And comparing which machine learning algorithm delivers the best results with respect to accuracy."
   ]
  }
 ],
 "metadata": {
  "kernelspec": {
   "display_name": "Python 3",
   "language": "python",
   "name": "python3"
  },
  "language_info": {
   "codemirror_mode": {
    "name": "ipython",
    "version": 3
   },
   "file_extension": ".py",
   "mimetype": "text/x-python",
   "name": "python",
   "nbconvert_exporter": "python",
   "pygments_lexer": "ipython3",
   "version": "3.7.4"
  }
 },
 "nbformat": 4,
 "nbformat_minor": 5
}
